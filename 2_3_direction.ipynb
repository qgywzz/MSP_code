{
 "cells": [
  {
   "cell_type": "code",
   "execution_count": 1,
   "metadata": {},
   "outputs": [],
   "source": [
    "import matplotlib.pyplot as plt\n",
    "import pandas as pd\n",
    "import numpy as np\n",
    "import os\n",
    "import sys\n",
    "import time\n",
    "import copy\n",
    "import string\n",
    "import json\n",
    "import pickle as pk\n",
    "import math\n",
    "\n",
    "from treelib import Node, Tree\n",
    "\n",
    "from collections import Counter\n",
    "\n",
    "from math import sin, asin, cos, radians, fabs, sqrt\n",
    "\n",
    "############################    从文件中 读取 数据   ##############\n",
    "def read_q(filename):\n",
    "    f = open(filename,\"rb+\")\n",
    "    st = pk.load(f)\n",
    "    f.close()\n",
    "    return st\n",
    "\n",
    "##########################    向文件中  写 数据  #####################\n",
    "def write_q(st, filename):\n",
    "    f = open(filename, \"wb+\")\n",
    "    pk.dump(st,f)\n",
    "    f.close()\n"
   ]
  },
  {
   "cell_type": "code",
   "execution_count": 2,
   "metadata": {},
   "outputs": [
    {
     "data": {
      "text/plain": [
       "[0.87586,\n",
       " 0.87223,\n",
       " 0.8937,\n",
       " 0.87175,\n",
       " 0.8787,\n",
       " 0.8793,\n",
       " 0.91325,\n",
       " 0.8495,\n",
       " 0.91751,\n",
       " 0.90836,\n",
       " 0.88781,\n",
       " 0.86239,\n",
       " 0.88194,\n",
       " 0.92258,\n",
       " 0.87658]"
      ]
     },
     "execution_count": 2,
     "metadata": {},
     "output_type": "execute_result"
    }
   ],
   "source": [
    "##########################    direction_deviation  ######################\n",
    "\n",
    "big_t = [\n",
    " \n",
    "[\t\"s_cluster\"\t,\t\"0_1\"\t,\t\"r_2\"\t,\t3\t,\t2\t],\n",
    "[\t\"s_cluster\"\t,\t\"0_1\"\t,\t\"r_3\"\t,\t3\t,\t3\t],\n",
    "[\t\"s_cluster\"\t,\t\"0_1\"\t,\t\"r_4\"\t,\t3\t,\t4\t],\n",
    "[\t\"s_cluster\"\t,\t\"0_1\"\t,\t\"r_5\"\t,\t3\t,\t5\t],\n",
    "[\t\"s_cluster\"\t,\t\"0_1\"\t,\t\"r_6\"\t,\t3\t,\t6\t],\n",
    "[\t\"s_cluster\"\t,\t\"0_2\"\t,\t\"r_2\"\t,\t3\t,\t2\t],\n",
    "[\t\"s_cluster\"\t,\t\"0_2\"\t,\t\"r_3\"\t,\t3\t,\t3\t],\n",
    "[\t\"s_cluster\"\t,\t\"0_2\"\t,\t\"r_4\"\t,\t3\t,\t4\t],\n",
    "[\t\"s_cluster\"\t,\t\"0_2\"\t,\t\"r_5\"\t,\t3\t,\t5\t],\n",
    "[\t\"s_cluster\"\t,\t\"0_2\"\t,\t\"r_6\"\t,\t3\t,\t6\t],\n",
    "[\t\"s_cluster\"\t,\t\"0_3\"\t,\t\"r_2\"\t,\t3\t,\t2\t],\n",
    "[\t\"s_cluster\"\t,\t\"0_3\"\t,\t\"r_3\"\t,\t3\t,\t3\t],\n",
    "[\t\"s_cluster\"\t,\t\"0_3\"\t,\t\"r_4\"\t,\t3\t,\t4\t],\n",
    "[\t\"s_cluster\"\t,\t\"0_3\"\t,\t\"r_5\"\t,\t3\t,\t5\t],\n",
    "[\t\"s_cluster\"\t,\t\"0_3\"\t,\t\"r_6\"\t,\t3\t,\t6\t]\n",
    "\n",
    "\n",
    "]\n",
    "\n",
    "cos_l = []\n",
    "i = 0\n",
    "for bb in big_t:\n",
    "    cluster = bb[0]   # 聚类器  a_cluster,,mb_kmeans\n",
    "    ex_times = bb[1]      #第几次实验\n",
    "    at = bb[2]\n",
    "    #print(cluster, ex_times, at)\n",
    "    #ai = \"0_4\"   #  实验序号\n",
    "    #at = \"r_6\"       #  ka, or 设置 点\n",
    "    wz = [47,79,137,146,167]\n",
    "\n",
    "    cos_v = 0\n",
    "    num = 0\n",
    "    for aa in wz:\n",
    "        j = aa\n",
    "\n",
    "        filename = \".\\\\os_file\\\\compa_ex\\\\h_2\\\\res_8\\\\\"+str(cluster)+\"\\\\\"+str(ex_times)+\"\\\\\"+str(at)+ \"\\\\rec_cos_\"+str(i)+\"_\"+str(j)+\".pkl\"\n",
    "    \n",
    "        cos_l_m = read_q(filename)\n",
    "    #print(\"cos_1长度\", len(cos_l))\n",
    "    #print(\"cos_l\", cos_l)\n",
    "        num += len(cos_l_m)\n",
    "    \n",
    "        for item in cos_l_m:\n",
    "            cos_v += item\n",
    "        \n",
    "    cos_v = round(cos_v/num,5)\n",
    "    cos_l.append(cos_v)\n",
    "    \n",
    "cos_l"
   ]
  },
  {
   "cell_type": "code",
   "execution_count": null,
   "metadata": {},
   "outputs": [],
   "source": []
  }
 ],
 "metadata": {
  "kernelspec": {
   "display_name": "Python 3",
   "language": "python",
   "name": "python3"
  },
  "language_info": {
   "codemirror_mode": {
    "name": "ipython",
    "version": 3
   },
   "file_extension": ".py",
   "mimetype": "text/x-python",
   "name": "python",
   "nbconvert_exporter": "python",
   "pygments_lexer": "ipython3",
   "version": "3.7.0"
  }
 },
 "nbformat": 4,
 "nbformat_minor": 2
}
