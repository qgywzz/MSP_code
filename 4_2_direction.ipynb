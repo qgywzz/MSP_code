{
 "cells": [
  {
   "cell_type": "code",
   "execution_count": 1,
   "metadata": {},
   "outputs": [],
   "source": [
    "import matplotlib.pyplot as plt\n",
    "import pandas as pd\n",
    "import numpy as np\n",
    "import os\n",
    "import sys\n",
    "import time\n",
    "import copy\n",
    "import string\n",
    "import json\n",
    "import pickle as pk\n",
    "import math\n",
    "\n",
    "from treelib import Node, Tree\n",
    "\n",
    "from collections import Counter\n",
    "\n",
    "from math import sin, asin, cos, radians, fabs, sqrt\n",
    "\n",
    "############################    从文件中 读取 数据   ##############\n",
    "def read_q(filename):\n",
    "    f = open(filename,\"rb+\")\n",
    "    st = pk.load(f)\n",
    "    f.close()\n",
    "    return st\n",
    "\n",
    "##########################    向文件中  写 数据  #####################\n",
    "def write_q(st, filename):\n",
    "    f = open(filename, \"wb+\")\n",
    "    pk.dump(st,f)\n",
    "    f.close()\n"
   ]
  },
  {
   "cell_type": "code",
   "execution_count": 7,
   "metadata": {},
   "outputs": [
    {
     "data": {
      "text/plain": [
       "[0.38962370962370957,\n",
       " 0.3198701298701298,\n",
       " 0.27531834831834834,\n",
       " 0.25284075184075183,\n",
       " 0.24145303902446758,\n",
       " 0.3887962037962038,\n",
       " 0.3198701298701298,\n",
       " 0.30227106227106226,\n",
       " 0.2997069597069597,\n",
       " 0.2997069597069597]"
      ]
     },
     "execution_count": 7,
     "metadata": {},
     "output_type": "execute_result"
    }
   ],
   "source": [
    "##########################  平均识别率 aip   ######################\n",
    "\n",
    "big_t = [\n",
    " \n",
    "[\t\"s_cluster\"\t,\t\"0_1\"\t,\t\"k_2\"\t,\t2\t,\t3\t],\n",
    "[\t\"s_cluster\"\t,\t\"0_1\"\t,\t\"k_3\"\t,\t3\t,\t3\t],\n",
    "[\t\"s_cluster\"\t,\t\"0_1\"\t,\t\"k_4\"\t,\t4\t,\t3\t],\n",
    "[\t\"s_cluster\"\t,\t\"0_1\"\t,\t\"k_5\"\t,\t5\t,\t3\t],\n",
    "[\t\"s_cluster\"\t,\t\"0_1\"\t,\t\"k_6\"\t,\t6\t,\t3\t],\n",
    "[\t\"s_cluster\"\t,\t\"0_1\"\t,\t\"r_2\"\t,\t3\t,\t2\t],\n",
    "[\t\"s_cluster\"\t,\t\"0_1\"\t,\t\"r_3\"\t,\t3\t,\t3\t],\n",
    "[\t\"s_cluster\"\t,\t\"0_1\"\t,\t\"r_4\"\t,\t3\t,\t4\t],\n",
    "[\t\"s_cluster\"\t,\t\"0_1\"\t,\t\"r_5\"\t,\t3\t,\t5\t],\n",
    "[\t\"s_cluster\"\t,\t\"0_1\"\t,\t\"r_6\"\t,\t3\t,\t6\t]\n",
    "\n",
    "]\n",
    "\n",
    "aip = []\n",
    "i = 0\n",
    "for bb in big_t:\n",
    "    cluster = bb[0]   # 聚类器  a_cluster,,mb_kmeans\n",
    "    ex_times = bb[1]      #第几次实验\n",
    "    at = bb[2]     # 变量名称\n",
    "    #print(cluster, ex_times, at)\n",
    "    #ai = \"0_4\"   #  实验序号\n",
    "    #at = \"r_6\"       #  ka, or 设置 点\n",
    "    wz = [47,79,137,146,167]\n",
    "\n",
    "    #cos_v = 0\n",
    "    #num = 0\n",
    "    aip_m = 0\n",
    "    aip_mm = 0\n",
    "    for aa in wz:\n",
    "        j = aa\n",
    "             \n",
    "        k_as = []\n",
    "        filename = \".\\\\os_file\\\\compa_ex\\\\privacy_protection\\\\res_6\\\\\"+str(cluster)+\"\\\\\"+str(ex_times)+\"\\\\\"+str(at)+ \"\\\\k_as_\"+str(i)+\"_\"+str(j)+\".pkl\"\n",
    "        k_as = read_q(filename)\n",
    "        #print(\"文件\",j,\"停留点个数为\", len(k_as))\n",
    "        \n",
    "        aip_m2 = 0 \n",
    "        for k in range(len(k_as)):     \n",
    "            \n",
    "            #print(\"文件\",j,\"第\",k,\"个停留点匿名集大小为\", len(k_as[k]))\n",
    "            a = 1/(len(k_as[k])+1)    # 单点的识别率\n",
    "            #print(\"文件\",j,\"第\",k,\"个停留点识别率为\", a)\n",
    "            aip_m2 = aip_m2 + a\n",
    "            \n",
    "        aip_m2 = aip_m2/len(k_as)   # 单文件的平均识别率\n",
    "        #print(\"文件\",j,\"的平均识别率为\", aip_m2)\n",
    "        \n",
    "        aip_mm = aip_mm + aip_m2\n",
    "        \n",
    "    aip_m = aip_mm / len(wz)     # 每个bb设置对应的平均识别率\n",
    "    \n",
    "    #print(\"设置\",bb,\"下的平均识别率为\", aip_m)\n",
    "    aip.append(aip_m)\n",
    "        \n",
    "aip"
   ]
  },
  {
   "cell_type": "code",
   "execution_count": null,
   "metadata": {},
   "outputs": [],
   "source": []
  }
 ],
 "metadata": {
  "kernelspec": {
   "display_name": "Python 3",
   "language": "python",
   "name": "python3"
  },
  "language_info": {
   "codemirror_mode": {
    "name": "ipython",
    "version": 3
   },
   "file_extension": ".py",
   "mimetype": "text/x-python",
   "name": "python",
   "nbconvert_exporter": "python",
   "pygments_lexer": "ipython3",
   "version": "3.7.0"
  }
 },
 "nbformat": 4,
 "nbformat_minor": 2
}
