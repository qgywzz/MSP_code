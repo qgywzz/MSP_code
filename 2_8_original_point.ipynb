{
 "cells": [
  {
   "cell_type": "code",
   "execution_count": 1,
   "metadata": {},
   "outputs": [],
   "source": [
    "import pickle as pk"
   ]
  },
  {
   "cell_type": "code",
   "execution_count": 2,
   "metadata": {},
   "outputs": [],
   "source": [
    "############################    从文件中 读取 数据   ##############\n",
    "def read_q(filename):\n",
    "    f = open(filename,\"rb+\")\n",
    "    st = pk.load(f)\n",
    "    f.close()\n",
    "    return st"
   ]
  },
  {
   "cell_type": "code",
   "execution_count": 8,
   "metadata": {},
   "outputs": [
    {
     "data": {
      "text/plain": [
       "[[[[3, 6, 12, 9], [3, 6, 12, 6], [3, 6, 12, 6], [3, 6, 12, 3], [3, 6, 12, 3]],\n",
       "  [[3, 0, 9, 6], [3, 0, 9, 3], [3, 0, 9, 3], [3, 0, 9, 3], [3, 0, 9, 0]],\n",
       "  [[3, 0, 0, 6], [3, 0, 0, 3], [3, 0, 0, 3], [3, 0, 0, 3], [3, 0, 0, 3]],\n",
       "  [[15, 0, 0, 9], [15, 0, 0, 6], [15, 0, 0, 6], [15, 0, 0, 6], [15, 0, 0, 3]]],\n",
       " [[[6, 9, 18, 12], [3, 6, 12, 6], [3, 6, 12, 6], [3, 6, 12, 9], [3, 6, 12, 6]],\n",
       "  [[6, 3, 9, 6], [3, 0, 9, 3], [3, 0, 9, 6], [3, 0, 9, 6], [3, 0, 9, 3]],\n",
       "  [[6, 3, 6, 9], [3, 0, 0, 3], [3, 0, 0, 3], [3, 0, 0, 6], [3, 0, 0, 3]],\n",
       "  [[15, 0, 0, 12],\n",
       "   [15, 0, 0, 6],\n",
       "   [15, 0, 0, 9],\n",
       "   [15, 0, 0, 9],\n",
       "   [15, 0, 0, 6]]]]"
      ]
     },
     "execution_count": 8,
     "metadata": {},
     "output_type": "execute_result"
    }
   ],
   "source": [
    "filename1 = \".\\\\os_file\\\\res_8\\\\ori_p_num.pkl\"\n",
    "a = read_q(filename1)\n",
    "a    #  a[k/r][cluster][2-6][4types]"
   ]
  },
  {
   "cell_type": "code",
   "execution_count": 9,
   "metadata": {},
   "outputs": [
    {
     "data": {
      "text/plain": [
       "[345, 414]"
      ]
     },
     "execution_count": 9,
     "metadata": {},
     "output_type": "execute_result"
    }
   ],
   "source": [
    "###################  统计 K 、r 各自的数目   ########################\n",
    "#i = 0    # i= 0 K  1  R\n",
    "c = [] \n",
    "for i in range(len(a)):   # k / r\n",
    "    b = 0\n",
    "    for j in range(len(a[i])):    # cluster\n",
    "        for k in range(len(a[i][j])):   # 2-6\n",
    "            for l in range(len(a[i][j][k])):\n",
    "                b += a[i][j][k][l]\n",
    "    c.append(b)\n",
    "                \n",
    "c\n"
   ]
  },
  {
   "cell_type": "code",
   "execution_count": null,
   "metadata": {},
   "outputs": [],
   "source": []
  },
  {
   "cell_type": "code",
   "execution_count": null,
   "metadata": {},
   "outputs": [],
   "source": []
  },
  {
   "cell_type": "code",
   "execution_count": null,
   "metadata": {},
   "outputs": [],
   "source": []
  },
  {
   "cell_type": "code",
   "execution_count": 20,
   "metadata": {},
   "outputs": [
    {
     "data": {
      "text/plain": [
       "[156, 90, 51, 117]"
      ]
     },
     "execution_count": 20,
     "metadata": {},
     "output_type": "execute_result"
    }
   ],
   "source": [
    "#######################     按聚类算法 统计   #######################\n",
    "\n",
    "#for i in range(len(a)):   # k / r\n",
    "\n",
    "i = 1   #  0 是 K, 1 是 R\n",
    "\n",
    "c = []\n",
    "\n",
    "for j in range(len(a[i])):    # cluster\n",
    "    b = 0\n",
    "    for k in range(len(a[i][j])):   # 2-6\n",
    "        for l in range(len(a[i][j][k])):\n",
    "            b += a[i][j][k][l]\n",
    "            \n",
    "    c.append(b)\n",
    "c        "
   ]
  },
  {
   "cell_type": "code",
   "execution_count": null,
   "metadata": {},
   "outputs": [],
   "source": []
  },
  {
   "cell_type": "code",
   "execution_count": null,
   "metadata": {},
   "outputs": [],
   "source": []
  },
  {
   "cell_type": "code",
   "execution_count": null,
   "metadata": {},
   "outputs": [],
   "source": []
  },
  {
   "cell_type": "code",
   "execution_count": 11,
   "metadata": {},
   "outputs": [
    {
     "name": "stdout",
     "output_type": "stream",
     "text": [
      "129 39 117 129\n"
     ]
    }
   ],
   "source": [
    "#######################     按类型 统计   #######################\n",
    "#filename2 = \".\\\\os_file\\\\res_8\\\\ori_p_num.csv\"\n",
    "#doc = open(filename2, 'a+')\n",
    "\n",
    "#doc.write(\"\\n\")\n",
    "#doc.write(\"\\n\")\n",
    "#b = 0\n",
    "#for i in range(len(a)):   # k / r\n",
    "\n",
    "i = 1   #  0 是 K, 1 是 R\n",
    "\n",
    "b1 = 0\n",
    "b2 = 0\n",
    "b3 = 0\n",
    "b4 = 0\n",
    "for j in range(len(a[i])):    # cluster\n",
    "    for k in range(len(a[i][j])):   # 2-6\n",
    "            #for l in range(len(a[i][j][k])):\n",
    "        b1 += a[i][j][k][0]\n",
    "        b2 += a[i][j][k][1]\n",
    "        b3 += a[i][j][k][2]\n",
    "        b4 += a[i][j][k][3]\n",
    "        #b = str(a[i][j][k][0]) + \",\" + str(a[i][j][k][1]) + \",\" + str(a[i][j][k][2]) + \",\" + str(a[i][j][k][3])\n",
    "             \n",
    "print(b1, b2, b3, b4)                            "
   ]
  },
  {
   "cell_type": "code",
   "execution_count": null,
   "metadata": {},
   "outputs": [],
   "source": []
  },
  {
   "cell_type": "code",
   "execution_count": null,
   "metadata": {},
   "outputs": [],
   "source": []
  },
  {
   "cell_type": "code",
   "execution_count": 7,
   "metadata": {},
   "outputs": [],
   "source": [
    "filename2 = \".\\\\os_file\\\\res_8\\\\ori_p_num.csv\"\n",
    "doc = open(filename2, 'a+')\n",
    "\n",
    "doc.write(\"\\n\")\n",
    "doc.write(\"\\n\")\n",
    "#b = 0\n",
    "for i in range(len(a)):   # k / r\n",
    "    for j in range(len(a[i])):    # cluster\n",
    "        for k in range(len(a[i][j])):   # 2-6\n",
    "            #for l in range(len(a[i][j][k])):\n",
    "            b = str(a[i][j][k][0]) + \",\" + str(a[i][j][k][1]) + \",\" + str(a[i][j][k][2]) + \",\" + str(a[i][j][k][3])\n",
    "            doc.write(b)\n",
    "            doc.write(\"\\n\")\n",
    "        doc.write(\"\\n\")\n",
    "    doc.write(\"\\n\")\n",
    "    doc.write(\"\\n\")\n",
    "doc.close()     \n",
    "                            "
   ]
  },
  {
   "cell_type": "code",
   "execution_count": 21,
   "metadata": {},
   "outputs": [
    {
     "data": {
      "text/plain": [
       "294"
      ]
     },
     "execution_count": 21,
     "metadata": {},
     "output_type": "execute_result"
    }
   ],
   "source": [
    "####################  统计 总数目    ###################################\n",
    "b = 0\n",
    "for i in range(len(a)):   # k / r\n",
    "    for j in range(len(a[i])):    # cluster\n",
    "        for k in range(len(a[i][j])):   # 2-6\n",
    "            for l in range(len(a[i][j][k])):\n",
    "                b += a[i][j][k][l]\n",
    "                \n",
    "b\n",
    "                            "
   ]
  },
  {
   "cell_type": "code",
   "execution_count": null,
   "metadata": {},
   "outputs": [],
   "source": []
  },
  {
   "cell_type": "code",
   "execution_count": null,
   "metadata": {},
   "outputs": [],
   "source": []
  },
  {
   "cell_type": "code",
   "execution_count": null,
   "metadata": {},
   "outputs": [],
   "source": []
  },
  {
   "cell_type": "code",
   "execution_count": null,
   "metadata": {},
   "outputs": [],
   "source": []
  },
  {
   "cell_type": "code",
   "execution_count": null,
   "metadata": {},
   "outputs": [],
   "source": [
    "def write_poi(json_sel,filename):\n",
    "    \n",
    "    #filename = \".\\\\results.csv\"\n",
    "        #filename =[\".\\\\POI\\\\a_stdout_\" + str(time.strftime(\"%Y%m%d-%H%M%S\")) + '.log']\n",
    "    doc = open(filename, 'a+')\n",
    "        #doc.write(codecs.BOM_UTF8)\n",
    "        #for ax in json_sel:\n",
    "        #    doc.write(ax)\n",
    "        #    doc.write('\\n')\n",
    "    for item in range(0,len(json_sel)):\n",
    "        doc.write(json_sel[item])\n",
    "        doc.write(\"\\n\")\n",
    "    doc.close()    "
   ]
  }
 ],
 "metadata": {
  "kernelspec": {
   "display_name": "Python 3",
   "language": "python",
   "name": "python3"
  },
  "language_info": {
   "codemirror_mode": {
    "name": "ipython",
    "version": 3
   },
   "file_extension": ".py",
   "mimetype": "text/x-python",
   "name": "python",
   "nbconvert_exporter": "python",
   "pygments_lexer": "ipython3",
   "version": "3.7.0"
  }
 },
 "nbformat": 4,
 "nbformat_minor": 2
}
