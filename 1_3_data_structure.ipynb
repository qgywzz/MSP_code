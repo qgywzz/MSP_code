{
 "cells": [
  {
   "cell_type": "code",
   "execution_count": 2,
   "metadata": {},
   "outputs": [],
   "source": [
    "import pandas as pd\n",
    "import numpy as np\n",
    "import os\n",
    "import sys\n",
    "import time\n",
    "\n",
    "import string\n",
    "import json\n",
    "import pickle as pk\n",
    "\n",
    "from collections import Counter\n",
    "\n",
    "from math import sin, asin, cos, radians, fabs, sqrt\n",
    "\n",
    "# POI_list     \n",
    "# st_p   停留点列表   三元组list    [lat, lng, time]\n",
    "# st_poi  停留点-POI列表，   四元组list   [id, lat, lng, time] \n",
    "# st_poi_dic    停留点-POI字典     字典list   [{id, location, staying,category},{},{}]\n",
    "# st_poi_tree   停留点-POI树     字典树   根节点是字典，大类是字典，小类是list\n"
   ]
  },
  {
   "cell_type": "code",
   "execution_count": 3,
   "metadata": {},
   "outputs": [],
   "source": [
    "############################    从文件中 读取 数据   ##############\n",
    "def read_q(filename):\n",
    "    f = open(filename,\"rb+\")\n",
    "    st = pk.load(f)\n",
    "    f.close()\n",
    "    return st"
   ]
  },
  {
   "cell_type": "code",
   "execution_count": 4,
   "metadata": {},
   "outputs": [],
   "source": [
    "##########################    向文件中  写 数据  #####################\n",
    "def write_q(st, filename):\n",
    "    f = open(filename, \"wb+\")\n",
    "    pk.dump(st,f)\n",
    "    f.close()"
   ]
  },
  {
   "cell_type": "code",
   "execution_count": 61,
   "metadata": {},
   "outputs": [],
   "source": [
    "####################   proba()  把 staying list  转换为概率特征    ############\n",
    "#  输入: staying list   一个POI上的停留时间list ;  把停留时间化为了9个时段0::8\n",
    "#  输出: st_f      停留时间概率分布，  \n",
    "def proba(st):\n",
    "    \n",
    "    t = st.copy()\n",
    "    for i in range(0, len(st)):\n",
    "    \n",
    "        if 10 <= st[i] < 30:\n",
    "            t[i] = 0\n",
    "        elif 30 <= st[i] < 60:\n",
    "            t[i] = 1\n",
    "        elif 60 <= st[i] < 90:\n",
    "            t[i] = 2\n",
    "        elif 90 <= st[i] < 120:\n",
    "            t[i] = 3\n",
    "        elif 120 <= st[i] < 150:\n",
    "            t[i] = 4\n",
    "        elif 150 <= st[i] < 180:\n",
    "            t[i] = 5\n",
    "        elif 180 <= st[i] < 210:\n",
    "            t[i] = 6\n",
    "        elif 210 <= st[i] < 240:\n",
    "            t[i] = 7\n",
    "        else:\n",
    "            t[i] = 8\n",
    "    \n",
    "    b = len(t)\n",
    "    a = Counter(t)      #  ？？？？？\n",
    "    #print(a)\n",
    "    stf = [0]*9        # staying list 转化为 fecture vector 【0,0,0，，，0】\n",
    "    #print(st_f)\n",
    "\n",
    "    for key, value in a.items():\n",
    "        stf[key] = round(value/b, 3)\n",
    "        \n",
    "    return stf   "
   ]
  },
  {
   "cell_type": "code",
   "execution_count": 62,
   "metadata": {},
   "outputs": [],
   "source": [
    "################################  停留点 ----> 转换轨迹段 到 停留点  #############\n",
    "# 计算停留点 stay_point 的平均地理位置 及 停留时间\n",
    "# input:  一个 stay_point 轨迹段，       所有位置 及 访问时刻  [[Lat, Long, Time],[],[]]\n",
    "# output:  这个stay_point 的平均地理位置 及 停留时长 [Lat, Long, Duration]   单位， 分钟/min\n",
    "def mean_point(a):\n",
    "    b = 0\n",
    "    c = 0\n",
    "    for i in range(0, len(a)):\n",
    "        b = b + a[i][0]\n",
    "        c = c + a[i][1]\n",
    "    \n",
    "    b = b / len(a)\n",
    "    c = c / len(a)\n",
    "    \n",
    "    d = (a[len(a)-1][2] -a[0][2]) * 24*60 \n",
    "    \n",
    "    return [b, c, d]"
   ]
  },
  {
   "cell_type": "code",
   "execution_count": 63,
   "metadata": {},
   "outputs": [],
   "source": [
    "###################################   单停留点与 POI的匹配    ############\n",
    "# 输入:  停留点list (一个 三元组)[经度，纬度，时间] , POI_list  [“名称”，纬度，经度]\n",
    "# 输出： 最近的POI  及 停留时间\n",
    "#st_p = st_p_list[0]\n",
    "\n",
    "def match(st_p, POI_list):\n",
    "    poi_st_1 = [] \n",
    "    for i in range(0, len(POI_list)):\n",
    "        a = [[POI_list[i][1], POI_list[i][2]],[st_p[0],st_p[1]]]\n",
    "        b = pd.DataFrame(a)\n",
    "        c = Dis(b)\n",
    "        poi_st_1.append(c)    \n",
    "    #print(len(poi_st_1)) \n",
    "    j = poi_st_1.index( min(poi_st_1) )\n",
    "    return  [POI_list[j][0],POI_list[j][1], POI_list[j][2], st_p[2]]      #【“名称”，纬度，经度，停留时间】\n",
    "    "
   ]
  },
  {
   "cell_type": "code",
   "execution_count": 64,
   "metadata": {},
   "outputs": [],
   "source": [
    "#######################   Dis()  根据经纬度计算距离 distance(a)  ####################3\n",
    "#     input:  a  2*2 两个点的经纬度坐标；\n",
    "#     output:  距离  m\n",
    "\n",
    "################    测试用例   #################\n",
    "#a = [[40.009532,116.322153],[40.009493,116.322103]]\n",
    "#b = pd.DataFrame(a)\n",
    "#Dis(b)\n",
    "\n",
    "EARTH_RADIUS = 6371.004           #地球平均半径，6371km\n",
    " \n",
    "def hav(theta):\n",
    "    s = sin(theta / 2)\n",
    "    return s * s\n",
    " \n",
    "def Dis(a): \n",
    "#def get_distance_hav(lat0, lng0, lat1, lng1):\n",
    "    \"\"\"用haversine公式计算球面两点间的距离。\"\"\"\n",
    "    # 经纬度转换成弧度\n",
    "    lat0 = radians(a.iloc[0,0])\n",
    "    lat1 = radians(a.iloc[1,0])\n",
    "    lng0 = radians(a.iloc[0,1])\n",
    "    lng1 = radians(a.iloc[1,1])\n",
    " \n",
    "    dlng = fabs(lng0 - lng1)\n",
    "    dlat = fabs(lat0 - lat1)\n",
    "    h = hav(dlat) + cos(lat0) * cos(lat1) * hav(dlng)\n",
    "    dist = 2 * EARTH_RADIUS * asin(sqrt(h))*1000\n",
    " \n",
    "    return dist"
   ]
  },
  {
   "cell_type": "code",
   "execution_count": 20,
   "metadata": {},
   "outputs": [],
   "source": [
    "##############################   POI_list  写   ###########################\n",
    "file_poi_list = \".\\\\os_file\\\\POI_list.pkl\"\n",
    "write_q(POI_list, file_poi_list)"
   ]
  },
  {
   "cell_type": "code",
   "execution_count": 69,
   "metadata": {},
   "outputs": [],
   "source": [
    "##############################   POI_list  读   ###########################\n",
    "file_poi_list = \".\\\\os_file\\\\POI_list.pkl\"\n",
    "POI_list = read_q(file_poi_list)"
   ]
  },
  {
   "cell_type": "code",
   "execution_count": 70,
   "metadata": {},
   "outputs": [
    {
     "data": {
      "text/plain": [
       "76061"
      ]
     },
     "execution_count": 70,
     "metadata": {},
     "output_type": "execute_result"
    }
   ],
   "source": [
    "len(POI_list)"
   ]
  },
  {
   "cell_type": "code",
   "execution_count": 22,
   "metadata": {},
   "outputs": [],
   "source": [
    "####################################   读 st_p_1/2 轨迹  ###############################\n",
    "# 输出 st_p_1, st_p_2  为原始停留点数据-轨迹   四重list\n",
    "\n",
    "file_name_st1 = \".\\\\Stay_point\\\\st_p_1-20190726-120655.txt\"        # 读取第一类停留点\n",
    "b = open(file_name_st1, \"r+\")\n",
    "out = b.read()\n",
    "st_p_1 =  json.loads(out)\n",
    "b.close()\n",
    "\n",
    "file_name_st2 = \".\\\\Stay_point\\\\st_p_2-20190726-120655.txt\"        # 读取第二类停留点\n",
    "b = open(file_name_st2, \"r+\")\n",
    "out = b.read()\n",
    "st_p_2 =  json.loads(out)\n",
    "b.close()\n",
    "\n",
    "len(st_p_2[0])"
   ]
  },
  {
   "cell_type": "code",
   "execution_count": 23,
   "metadata": {
    "scrolled": false
   },
   "outputs": [
    {
     "name": "stdout",
     "output_type": "stream",
     "text": [
      "第一类停留点有：  2870   个\n",
      "第二类停留点有：  15471   个\n",
      "共有停留点有：  18341   个\n"
     ]
    }
   ],
   "source": [
    "###########################  形成 st_p list  三元组list #################################################\n",
    "# st_p_1/2   从TXT文件中，直接读取的数据       四重list st_p[i][j][k][m]    i user;   j file;   k st_p;  m  GPS_point\n",
    "# st_p        停留点list      三元组list       [lat, lng, time]    \n",
    "\n",
    "filename = \".\\\\os_file\\\\st_p.pkl\"\n",
    "st_p = []    #  停留点的list \n",
    "\n",
    "st_p_m = st_p_1\n",
    "for i in range(0, len(st_p_m)):        \n",
    "             # 对 st_p_m[i]  第i个用户，操作文件  user_files\n",
    "    if len(st_p_m[i]) == 0:            #  如果  user_file  的文件数为 0，  len(st_p_1[i])是用户的文件数\n",
    "        continue\n",
    "    else:       \n",
    "        for j in range(0, len(st_p_m[i])):      \n",
    "                    # 对用户i的文件j, st_p[i][j],     文件\n",
    "            if len(st_p_m[i][j]) == 0:       #  文件内没有stay point，\n",
    "                continue\n",
    "            else:      #  文件内有 stay point               #  user_file_st-p\n",
    "                \n",
    "                for k in range(0, len(st_p_m[i][j])):\n",
    "                            # 对用户 i 文件 j, 停留点 k, st_p[i][j][k]     停留点\n",
    "                    #st_p_1.append(st_p_1_txt[i][j][k])\n",
    "                    if len(st_p_m[i][j][k]) ==0:\n",
    "                        continue\n",
    "                    else:                # 操作每一个 st_p_1_txt[i][j][k] 停留点\n",
    "                        \n",
    "                        #此处定义一个 POI\n",
    "                        a = mean_point(st_p_m[i][j][k])\n",
    "                        #print(a)\n",
    "                        st_p.append(a)\n",
    "                            \n",
    "b = len(st_p)\n",
    "print(\"第一类停留点有： \", b,\"  个\")\n",
    "\n",
    "st_p_m = st_p_2\n",
    "for i in range(0, len(st_p_m)):        \n",
    "             # 对 st_p[i]  第i-1个用户，操作文件  user_files\n",
    "    if len(st_p_m[i]) == 0:            #  如果  user_file  的文件数为 0，  len(st_p_1[i])是用户的文件数\n",
    "        continue\n",
    "    else:       \n",
    "        for j in range(0, len(st_p_m[i])):      \n",
    "                    # 对用户i的文件j, st_p[i][j],  操作停留点  user_file_st-p\n",
    "            if len(st_p_m[i][j]) == 0:       #  文件内没有stay point，\n",
    "                continue\n",
    "            else:      #  文件内有 stay point               #  user_file_st-p\n",
    "                \n",
    "                for k in range(0, len(st_p_m[i][j])):\n",
    "                            # 对用户 i 文件 j, 停留点 k, st_p[i][j][k]   操作地理点  user_file_st-p_GPS-point\n",
    "                    #st_p_1.append(st_p_1_txt[i][j][k])\n",
    "                    if len(st_p_m[i][j][k]) ==0:\n",
    "                        continue\n",
    "                    else:                # 操作每一个 st_p_1_txt[i][j][k] 停留点\n",
    "                        \n",
    "                        #此处定义一个 POI\n",
    "                        a = mean_point(st_p_m[i][j][k])\n",
    "                        #print(a)\n",
    "                        st_p.append(a)                            \n",
    "c = len(st_p)\n",
    "print(\"第二类停留点有： \", c - b,\"  个\")\n",
    "print(\"共有停留点有： \", c,\"  个\")\n",
    "#len(st_p_list)    #  三元组   [lat,lng, time]\n",
    "\n",
    "write_q(st_p, filename)\n",
    "#filename1 = \".\\\\os_file\\\\st_p.csv\"\n",
    "#write_st_p(st_p, filename1)\n"
   ]
  },
  {
   "cell_type": "code",
   "execution_count": 66,
   "metadata": {},
   "outputs": [
    {
     "data": {
      "text/plain": [
       "18341"
      ]
     },
     "execution_count": 66,
     "metadata": {},
     "output_type": "execute_result"
    }
   ],
   "source": [
    "#############################    读 st_p   ##########################\n",
    "filename = \".\\\\os_file\\\\st_p.pkl\"\n",
    "st_p = read_q(filename)\n",
    "len(st_p)"
   ]
  },
  {
   "cell_type": "code",
   "execution_count": 75,
   "metadata": {},
   "outputs": [
    {
     "data": {
      "text/plain": [
       "18341"
      ]
     },
     "execution_count": 75,
     "metadata": {},
     "output_type": "execute_result"
    }
   ],
   "source": [
    "len(st_p)"
   ]
  },
  {
   "cell_type": "code",
   "execution_count": 76,
   "metadata": {
    "scrolled": false
   },
   "outputs": [],
   "source": [
    "################################   st_poi   停留点 与 POI 匹配  #####################################\n",
    "#  停留点   st_p\n",
    "#  POI      POI_list\n",
    "#  输出  st_poi      停留点对应的POI，及停留时间  [id, lat, lng, time]  \n",
    "filename = \".\\\\os_file\\\\st_poi.pkl\"   \n",
    "st_poi = []\n",
    "#for i in range(0, len(st_p)):\n",
    "for i in range(0, 20):\n",
    "    \n",
    "    st_p_m = match(st_p[i], POI_list)\n",
    "    st_poi.append(st_p_m)\n",
    "    \n",
    "write_q(st_poi, filename)"
   ]
  },
  {
   "cell_type": "code",
   "execution_count": 72,
   "metadata": {},
   "outputs": [
    {
     "data": {
      "text/plain": [
       "[['圆明园-心境轩', 40.006578000000005, 116.320843, 23.749999915016815],\n",
       " ['北京大学附属小学-体育馆', 40.000085, 116.32512, 212.31666662497446],\n",
       " ['科苑公寓', 39.992231, 116.327031, 35.83333340124227],\n",
       " ['北京大学附属小学-体育馆', 40.000085, 116.32512, 180.0],\n",
       " ['人保博物馆', 40.007597, 116.320035, 59.0666667802725],\n",
       " ['北京大学附属小学-体育馆', 40.000085, 116.32512, 21.683333372930065],\n",
       " ['DQ(双榆树店)', 39.973544, 116.332475, 27.699999979231507],\n",
       " ['无尽', 40.005973, 116.32533400000001, 68.36666659684852],\n",
       " ['北京大学附属小学-体育馆', 40.000085, 116.32512, 99.79999992297962],\n",
       " ['无尽', 40.005973, 116.32533400000001, 113.54999989969656],\n",
       " ['北京大学附属小学-体育馆', 40.000085, 116.32512, 172.9333332006354],\n",
       " ['北京大学附属小学-体育馆', 40.000085, 116.32512, 27.00000000419095],\n",
       " ['无尽', 40.005973, 116.32533400000001, 63.416666738921776],\n",
       " ['北京大学附属小学-体育馆', 40.000085, 116.32512, 196.2333332723938],\n",
       " ['北京大学附属小学-体育馆', 40.000085, 116.32512, 82.84999997355044],\n",
       " ['北京大学附属小学-体育馆', 40.000085, 116.32512, 50.7666666212026],\n",
       " ['人保博物馆', 40.007597, 116.320035, 44.59999996935949],\n",
       " ['无尽', 40.005973, 116.32533400000001, 13.500000002095476],\n",
       " ['桂韵', 40.005495, 116.324417, 16.766666646581143],\n",
       " ['雷殿生十年徒步中国展览馆', 40.110416, 116.10407099999999, 341.13333326065913]]"
      ]
     },
     "execution_count": 72,
     "metadata": {},
     "output_type": "execute_result"
    }
   ],
   "source": [
    "st_poi"
   ]
  },
  {
   "cell_type": "code",
   "execution_count": 27,
   "metadata": {},
   "outputs": [
    {
     "data": {
      "text/plain": [
       "[['圆明园-心境轩', 40.006578000000005, 116.320843, 23.749999915016815],\n",
       " ['北京大学附属小学-体育馆', 40.000085, 116.32512, 212.31666662497446],\n",
       " ['科苑公寓', 39.992231, 116.327031, 35.83333340124227],\n",
       " ['北京大学附属小学-体育馆', 40.000085, 116.32512, 180.0],\n",
       " ['人保博物馆', 40.007597, 116.320035, 59.0666667802725],\n",
       " ['北京大学附属小学-体育馆', 40.000085, 116.32512, 21.683333372930065],\n",
       " ['DQ(双榆树店)', 39.973544, 116.332475, 27.699999979231507],\n",
       " ['无尽', 40.005973, 116.32533400000001, 68.36666659684852],\n",
       " ['北京大学附属小学-体育馆', 40.000085, 116.32512, 99.79999992297962],\n",
       " ['无尽', 40.005973, 116.32533400000001, 113.54999989969656]]"
      ]
     },
     "execution_count": 27,
     "metadata": {},
     "output_type": "execute_result"
    }
   ],
   "source": [
    "###############################   读 st_poi   ###########################\n",
    "filename = \".\\\\os_file\\\\st_poi.pkl\"\n",
    "st_poi = read_q(filename)\n",
    "st_poi"
   ]
  },
  {
   "cell_type": "code",
   "execution_count": 73,
   "metadata": {},
   "outputs": [
    {
     "data": {
      "text/plain": [
       "[['圆明园-心境轩', 40.006578000000005, 116.320843, 23.749999915016815],\n",
       " ['北京大学附属小学-体育馆', 40.000085, 116.32512, 212.31666662497446],\n",
       " ['科苑公寓', 39.992231, 116.327031, 35.83333340124227],\n",
       " ['北京大学附属小学-体育馆', 40.000085, 116.32512, 180.0],\n",
       " ['人保博物馆', 40.007597, 116.320035, 59.0666667802725],\n",
       " ['北京大学附属小学-体育馆', 40.000085, 116.32512, 21.683333372930065],\n",
       " ['DQ(双榆树店)', 39.973544, 116.332475, 27.699999979231507],\n",
       " ['无尽', 40.005973, 116.32533400000001, 68.36666659684852],\n",
       " ['北京大学附属小学-体育馆', 40.000085, 116.32512, 99.79999992297962],\n",
       " ['无尽', 40.005973, 116.32533400000001, 113.54999989969656],\n",
       " ['北京大学附属小学-体育馆', 40.000085, 116.32512, 172.9333332006354],\n",
       " ['北京大学附属小学-体育馆', 40.000085, 116.32512, 27.00000000419095],\n",
       " ['无尽', 40.005973, 116.32533400000001, 63.416666738921776],\n",
       " ['北京大学附属小学-体育馆', 40.000085, 116.32512, 196.2333332723938],\n",
       " ['北京大学附属小学-体育馆', 40.000085, 116.32512, 82.84999997355044],\n",
       " ['北京大学附属小学-体育馆', 40.000085, 116.32512, 50.7666666212026],\n",
       " ['人保博物馆', 40.007597, 116.320035, 44.59999996935949],\n",
       " ['无尽', 40.005973, 116.32533400000001, 13.500000002095476],\n",
       " ['桂韵', 40.005495, 116.324417, 16.766666646581143],\n",
       " ['雷殿生十年徒步中国展览馆', 40.110416, 116.10407099999999, 341.13333326065913]]"
      ]
     },
     "execution_count": 73,
     "metadata": {},
     "output_type": "execute_result"
    }
   ],
   "source": [
    "st_poi"
   ]
  },
  {
   "cell_type": "code",
   "execution_count": 17,
   "metadata": {},
   "outputs": [],
   "source": [
    "#############################  st_poi_dic   把 st_p 四元组list 转换成 字典列表  ###################### \n",
    "#  根据POI 【id, lat, lng】 对停留时间进行聚集。  \n",
    "#  输出 st_p_dic  是 字典list        st_p_dic[i][][]    第i个POI，[][]字典的操作\n",
    "#    POI  {'id': '无尽',\n",
    "#          'location': {'lat': 40.005973, 'lng': 116.32533400000001},\n",
    "#          'staying': [68.36666659684852, 113.54999989969656]}\n",
    "filename = \".\\\\os_file\\\\st_poi_dic.pkl\"\n",
    "st_poi_dic = []\n",
    "\n",
    "for i in range(0,len(st_poi)):\n",
    "    num = 0\n",
    "    for j in range(0, len(st_poi_dic) ):        # 遍历已有列表\n",
    "        \n",
    "        if  st_poi[i][0] == st_poi_dic[j][\"id\"] and st_poi[i][1] == st_poi_dic[j][\"location\"][\"lat\"]  and  \\\n",
    "        st_poi[i][2] == st_poi_dic[j][\"location\"][\"lng\"]:       # 如果列表中已有该字典条目\n",
    "            \n",
    "            st_poi_dic[j][\"staying\"].append( st_poi[i][3])\n",
    "            break\n",
    "        else:\n",
    "            num += 1\n",
    "            continue\n",
    "    if num == len(st_poi_dic):        # 如果 现有st_poi_dic  list  中没有，则为该POI 添加 一个新的字典条目\n",
    "        a = {}\n",
    "        a[\"id\"] = st_poi[i][0]\n",
    "        a[\"location\"] = {\"lat\": st_poi[i][1], \"lng\": st_poi[i][2]}\n",
    "        a[\"staying\"] = [st_poi[i][3]]\n",
    "        \n",
    "        st_poi_dic.append(a)\n",
    "    else:\n",
    "        continue\n",
    "\n",
    "write_q(st_poi_dic, filename)"
   ]
  },
  {
   "cell_type": "code",
   "execution_count": 6,
   "metadata": {},
   "outputs": [
    {
     "data": {
      "text/plain": [
       "3634"
      ]
     },
     "execution_count": 6,
     "metadata": {},
     "output_type": "execute_result"
    }
   ],
   "source": [
    "filename = \".\\\\os_file\\\\st_poi_dic.pkl\"\n",
    "\n",
    "st_poi_dic = read_q(filename)\n",
    "len(st_poi_dic)"
   ]
  },
  {
   "cell_type": "code",
   "execution_count": 19,
   "metadata": {},
   "outputs": [],
   "source": [
    "#################################   st_poi_dic 分类    标签   ##########################\n",
    "# 给 st_poi_dic 加语义标签，category         其本身是由字典组成的列表\n",
    "# st_poi_dic =       \n",
    "#   [{'id': 'DQ(双榆树店)',\n",
    "#     'location': {'lat': 39.973544, 'lng': 116.332475},\n",
    "#     'staying': [27.699999979231507]},\n",
    "#    {'id': '无尽',\n",
    "#     'location': {'lat': 40.005973, 'lng': 116.32533400000001},\n",
    "#      'staying': [68.36666659684852, 113.54999989969656]}]\n",
    "\n",
    "filename = \".\\\\os_file\\\\st_poi_label.pkl\"\n",
    "path = \".\\\\POI_base\\\\POI\\\\\"             # 根目录\n",
    "class1_list = os.listdir(path)           # 大类列表\n",
    "for i in range(0, len(class1_list)):\n",
    "    #print(\"当前大类： \", class1_list[i])        \n",
    "    class2_path = path + class1_list[i]      # 大类路径 ， 每个大类\n",
    "    class2_list = os.listdir(class2_path)     # 小类列表\n",
    "    \n",
    "    for j in range(0, len(class2_list)):\n",
    "        class2_file = class2_path +\"\\\\\"+ class2_list[j]    # 小类路径 ， 每个小类\n",
    "        #print(\"大类： \",class1_list[i],\"下的当前小类： \",  class2_list[j])\n",
    "        #print(\"小类文件目录： \", class2_file)\n",
    "        \n",
    "        f = open(class2_file,\"rb\")\n",
    "        Lat_lng = pd.read_csv(f,header = None, encoding = \"gbk\")    # read.csv 后是DataFrame格式\n",
    "        f.close()\n",
    "        #print(\"小类poi数量 len(Lat_lng): \", len(Lat_lng))\n",
    " \n",
    "        poi_list = []            # 暂存小类POI_list\n",
    "        for r in range(0, len(Lat_lng)):\n",
    "            a = [Lat_lng.iloc[r][0], Lat_lng.iloc[r][1], Lat_lng.iloc[r][2]]\n",
    "            poi_list.append(a)\n",
    "        \n",
    "        #poi_list = read_POI(class2_file)         #[id, lat, lng]\n",
    "        \n",
    "        name = os.path.splitext(class2_list[j])[0]      # 取出小类名\n",
    "        #base=os.path.basename(filename)    取文件全名  \n",
    "        \n",
    "        for k in range(0, len(poi_list)):\n",
    "            \n",
    "            for m in range(0, len(st_poi_dic)):\n",
    "                \n",
    "                if  poi_list[k][0] == st_poi_dic[m][\"id\"] and poi_list[k][1] == st_poi_dic[m][\"location\"][\"lat\"]  and  \\\n",
    "                poi_list[k][2] == st_poi_dic[m][\"location\"][\"lng\"]:       # 如果列表中已有该字典条目\n",
    "            \n",
    "                    st_poi_dic[m][\"category\"] = name\n",
    "                    break\n",
    "\n",
    "write_q(st_poi_dic, filename)"
   ]
  },
  {
   "cell_type": "code",
   "execution_count": 5,
   "metadata": {},
   "outputs": [
    {
     "data": {
      "text/plain": [
       "3634"
      ]
     },
     "execution_count": 5,
     "metadata": {},
     "output_type": "execute_result"
    }
   ],
   "source": [
    "filename = \".\\\\os_file\\\\st_poi_dic.pkl\"\n",
    "st_poi_dic = read_q(filename)       # label 后\n",
    "len(st_poi_dic)"
   ]
  },
  {
   "cell_type": "code",
   "execution_count": 6,
   "metadata": {},
   "outputs": [],
   "source": [
    "#################################   基于字典 建立 st_poi_tree 分类树   ##########################\n",
    "\"\"\"#  大类 是 字典，  enter[\"scenic\"]； \n",
    "#  小类 是 列表，  scenic[{},{},{}];   scenic[2][\"staying\"]\n",
    "#  st_poi  是  字典， st_poi = {id: , location: , staying: , category: }\"\"\"\n",
    "\n",
    "filename = \".\\\\os_file\\\\st_poi_tree.pkl\"\n",
    "\n",
    "path = \".\\\\POI_base\\\\POI\\\\\"                               # 根目录\n",
    "class1_list = os.listdir(path)                            # 大类列表\n",
    "createVar = locals()    # 动态生成变量\n",
    "\n",
    "st_poi_tree = {}\n",
    "#print(\"所有大类： \", class1_list)  \n",
    "for i in range(0, len(class1_list)):\n",
    "    #print(\"当前大类： \", class1_list[i])        \n",
    "    class2_path = path + class1_list[i]                   # 大类路径 ， 每个大类\n",
    "    class2_list = os.listdir(class2_path)                 # 小类列表\n",
    "    #print(\"小类列表： \", class2_list) \n",
    "    \n",
    "    name1 = os.path.splitext(class1_list[i])[0]      # 取出大类名\n",
    "    createVar[name1] = {}   # 创建大类字典\n",
    "    \n",
    "    for j in range(0, len(class2_list)):\n",
    "        class2_file = class2_path +\"\\\\\"+ class2_list[j]     # 小类路径 ， 每个小类\n",
    "        #print(\"大类： \",class1_list[i],\"下的当前小类： \",  class2_list[j])\n",
    "        #print(\"小类文件目录： \", class2_file)\n",
    "        name2 = os.path.splitext(class2_list[j])[0]      # 取出小类名\n",
    "        createVar[name2] = []      #创建小类  列表\n",
    "        \n",
    "        \n",
    "        for k in range(0, len(st_poi_dic)):         # 对st_poi_dic 进行分类\n",
    "            \n",
    "            if st_poi_dic[k][\"category\"] == name2:\n",
    "                createVar[name2].append(st_poi_dic[k])\n",
    "        \n",
    "        \n",
    "        \n",
    "        createVar[name1][name2] = createVar[name2]    # 把小类字典 嵌入 大类字典\n",
    "        \n",
    "    st_poi_tree[name1] = createVar[name1]\n",
    "        \n",
    "write_q(st_poi_tree, filename)\n"
   ]
  },
  {
   "cell_type": "code",
   "execution_count": 7,
   "metadata": {},
   "outputs": [],
   "source": [
    "###########################  读 st_poi_tree  #############\n",
    "filename = \".\\\\os_file\\\\st_poi_tree.pkl\"\n",
    "st_poi_tree = read_q(filename)\n",
    "#st_poi_tree[\"enter\"][\"scenic\"][2][\"staying\"]\n",
    "#st_poi_tree\n"
   ]
  },
  {
   "cell_type": "code",
   "execution_count": 9,
   "metadata": {
    "collapsed": true
   },
   "outputs": [
    {
     "data": {
      "text/plain": [
       "[{'id': '大堂吧',\n",
       "  'location': {'lat': 39.996445, 'lng': 116.312735},\n",
       "  'staying': [77.04999993788078],\n",
       "  'category': 'bar'},\n",
       " {'id': '京都信苑饭店-大堂酒吧',\n",
       "  'location': {'lat': 39.904334999999996, 'lng': 116.31858600000001},\n",
       "  'staying': [12.249999940395355],\n",
       "  'category': 'bar'},\n",
       " {'id': '半山酒吧',\n",
       "  'location': {'lat': 39.973151, 'lng': 116.48791299999999},\n",
       "  'staying': [35.41666665812954, 151.58333333325572],\n",
       "  'category': 'bar'},\n",
       " {'id': 'juice bar',\n",
       "  'location': {'lat': 39.918248, 'lng': 116.31093600000001},\n",
       "  'staying': [42.083333290647715, 151.28333336790092],\n",
       "  'category': 'bar'},\n",
       " {'id': '酒吧',\n",
       "  'location': {'lat': 39.975998, 'lng': 116.32942800000001},\n",
       "  'staying': [14.19999997713603,\n",
       "   20.000000012805685,\n",
       "   20.016666578594595,\n",
       "   14.400000002933666,\n",
       "   10.516666610492393,\n",
       "   12.366666707675904,\n",
       "   46.233333349227905,\n",
       "   20.39999990724027,\n",
       "   14.499999932013452,\n",
       "   14.466666674707085,\n",
       "   109.61666668416001,\n",
       "   90.96666666213423,\n",
       "   141.46666675340384,\n",
       "   31.41666661365889,\n",
       "   48.01666665938683,\n",
       "   10.516666610492393,\n",
       "   46.233333349227905,\n",
       "   38.299999963492155,\n",
       "   12.016666657291353,\n",
       "   17.7333334449213,\n",
       "   179.766666716896,\n",
       "   26.900000054156408,\n",
       "   27.949999974807724,\n",
       "   23.416666702833027,\n",
       "   16.35000003967434,\n",
       "   18.53333324426785,\n",
       "   10.516666610492393,\n",
       "   13.29999998677522,\n",
       "   144.3833333265502,\n",
       "   23.916666673030704,\n",
       "   31.049999861279503,\n",
       "   215.68333334522322,\n",
       "   224.7833332826849,\n",
       "   23.366666596848518,\n",
       "   290.3666666394565,\n",
       "   13.000000031897798,\n",
       "   16.449999989708886],\n",
       "  'category': 'bar'},\n",
       " {'id': '嘿哈精酿啤酒屋(回龙观店)',\n",
       "  'location': {'lat': 40.074651, 'lng': 116.341902},\n",
       "  'staying': [134.08333330764435],\n",
       "  'category': 'bar'},\n",
       " {'id': '顽啤猴精酿(西山摩尔汇店)',\n",
       "  'location': {'lat': 39.934197, 'lng': 116.103996},\n",
       "  'staying': [19.033333350671455],\n",
       "  'category': 'bar'},\n",
       " {'id': '猫头鹰音乐部落(知春路店)',\n",
       "  'location': {'lat': 39.980621, 'lng': 116.34581899999999},\n",
       "  'staying': [155.9666666854173, 184.26666672108695],\n",
       "  'category': 'bar'},\n",
       " {'id': '北京中关村皇冠假日酒店-大堂酒廊',\n",
       "  'location': {'lat': 39.981415999999996, 'lng': 116.329609},\n",
       "  'staying': [23.7500000721775, 10.083333301590756],\n",
       "  'category': 'bar'},\n",
       " {'id': '九霄云外酒吧(香格里拉饭店)',\n",
       "  'location': {'lat': 39.950293, 'lng': 116.31490600000001},\n",
       "  'staying': [14.500000078696758],\n",
       "  'category': 'bar'},\n",
       " {'id': 'seven bar',\n",
       "  'location': {'lat': 39.948612, 'lng': 116.40956399999999},\n",
       "  'staying': [11.916666717734188],\n",
       "  'category': 'bar'},\n",
       " {'id': '星巴克(腾达大厦店)',\n",
       "  'location': {'lat': 39.943732000000004, 'lng': 116.333277},\n",
       "  'staying': [14.949999932432547],\n",
       "  'category': 'bar'},\n",
       " {'id': '万欧兰葡萄酒俱乐部',\n",
       "  'location': {'lat': 39.905714, 'lng': 116.475268},\n",
       "  'staying': [11.466666717315093],\n",
       "  'category': 'bar'},\n",
       " {'id': '星巴克(西城远洋大厦店)',\n",
       "  'location': {'lat': 39.911678, 'lng': 116.36655400000001},\n",
       "  'staying': [11.61666662665084, 103.51666669361293, 23.699999945238233],\n",
       "  'category': 'bar'},\n",
       " {'id': '蜂巢自提柜',\n",
       "  'location': {'lat': 39.960434, 'lng': 116.306207},\n",
       "  'staying': [12.466666647233069],\n",
       "  'category': 'bar'},\n",
       " {'id': 'Sir teen',\n",
       "  'location': {'lat': 39.935181, 'lng': 116.450861},\n",
       "  'staying': [14.55000004847534],\n",
       "  'category': 'bar'},\n",
       " {'id': 'ONE THIRD',\n",
       "  'location': {'lat': 39.935288, 'lng': 116.45082099999999},\n",
       "  'staying': [12.400000132620335],\n",
       "  'category': 'bar'},\n",
       " {'id': '钼molybdenum酒吧',\n",
       "  'location': {'lat': 39.983653000000004, 'lng': 116.489019},\n",
       "  'staying': [15.200000064214692, 32.333333326969296],\n",
       "  'category': 'bar'},\n",
       " {'id': 'hoper',\n",
       "  'location': {'lat': 39.950175, 'lng': 116.408971},\n",
       "  'staying': [30.649999977322295,\n",
       "   93.5166666295845,\n",
       "   68.55000004637986,\n",
       "   40.466666591819376],\n",
       "  'category': 'bar'},\n",
       " {'id': '啤酒青年酒吧',\n",
       "  'location': {'lat': 40.070283, 'lng': 116.35206000000001},\n",
       "  'staying': [10.433333372930065],\n",
       "  'category': 'bar'},\n",
       " {'id': 'v cocktail lab',\n",
       "  'location': {'lat': 39.942625, 'lng': 116.45751200000001},\n",
       "  'staying': [12.366666718153283],\n",
       "  'category': 'bar'},\n",
       " {'id': 'Black Sun Bar',\n",
       "  'location': {'lat': 39.9428, 'lng': 116.48143200000001},\n",
       "  'staying': [12.41666654124856],\n",
       "  'category': 'bar'},\n",
       " {'id': '星巴克(北京海润店)',\n",
       "  'location': {'lat': 39.982292, 'lng': 116.48978999999999},\n",
       "  'staying': [52.166666738921776],\n",
       "  'category': 'bar'},\n",
       " {'id': '长亭酒肆(北锣鼓巷店)',\n",
       "  'location': {'lat': 39.950901, 'lng': 116.409174},\n",
       "  'staying': [19.416666668839753, 19.416666668839753],\n",
       "  'category': 'bar'},\n",
       " {'id': 'Craft beer',\n",
       "  'location': {'lat': 40.047844, 'lng': 116.434715},\n",
       "  'staying': [28.066666605882347, 28.066666605882347],\n",
       "  'category': 'bar'},\n",
       " {'id': '星巴克(凯恒店)',\n",
       "  'location': {'lat': 39.929778999999996, 'lng': 116.439029},\n",
       "  'staying': [125.68333319853991],\n",
       "  'category': 'bar'},\n",
       " {'id': 'CIQI瓷器酒吧',\n",
       "  'location': {'lat': 39.91559, 'lng': 116.44693999999998},\n",
       "  'staying': [22.74999998509884],\n",
       "  'category': 'bar'}]"
      ]
     },
     "execution_count": 9,
     "metadata": {},
     "output_type": "execute_result"
    }
   ],
   "source": [
    "st_poi_tree[\"enter\"][\"bar\"]"
   ]
  },
  {
   "cell_type": "code",
   "execution_count": 50,
   "metadata": {},
   "outputs": [],
   "source": [
    "####################    K means  数据准备 samples[][]  两重list  ############################\n",
    "# 数据集 samples  底层 每个POI staying_list 转化为概率分布特征向量  st_f = proba(st)\n",
    "# 0: [10,30), 1:[30,60),...8:[240,..);     st_f  为staying list 内，各时段停留出现的频率\n",
    "#\n",
    "\"\"\"st_poi_tree ---> samples \"\"\"\n",
    "\n",
    "#st_poi_tree\n",
    "filename = \".\\\\os_file\\\\samples.pkl\"\n",
    "samples = []      #  samples[0][6]    # 大类 enter 中的小类 scenic 的样本数据 list\n",
    "for item1 in st_poi_tree:\n",
    "    \n",
    "    a1 = []\n",
    "    for item2 in st_poi_tree[item1]:        #  st_poi_tree[\"enter\"][\"bar\"][list]\n",
    "        \n",
    "        #print(item1 ,\"  ---> \",  item2)\n",
    "        #print(len(st_poi_tree[item1][item2]))    #\n",
    "        a2 = []\n",
    "        for i in range(0, len(st_poi_tree[item1][item2])):  #  \n",
    "            \n",
    "            a3 = st_poi_tree[item1][item2][i][\"staying\"]\n",
    "            \n",
    "            a4 = proba(a3)       # proba()  把staying list 转化为 各时段的概率分布（4小时）\n",
    "            a2.append(a4)\n",
    "        a1.append(a2)\n",
    "    samples.append(a1)\n",
    "        \n",
    "#samples\n",
    "write_q(samples, filename)"
   ]
  },
  {
   "cell_type": "code",
   "execution_count": 52,
   "metadata": {
    "scrolled": true
   },
   "outputs": [
    {
     "name": "stdout",
     "output_type": "stream",
     "text": [
      "[{'id': '圆明园-心境轩', 'location': {'lat': 40.006578000000005, 'lng': 116.320843}, 'staying': [23.749999915016815], 'category': 'scenic'}, {'id': '人保博物馆', 'location': {'lat': 40.007597, 'lng': 116.320035}, 'staying': [59.0666667802725], 'category': 'scenic'}, {'id': '无尽', 'location': {'lat': 40.005973, 'lng': 116.32533400000001}, 'staying': [68.36666659684852, 113.54999989969656], 'category': 'scenic'}]\n"
     ]
    },
    {
     "data": {
      "text/plain": [
       "[[1.0, 0, 0, 0, 0, 0, 0, 0, 0],\n",
       " [0, 1.0, 0, 0, 0, 0, 0, 0, 0],\n",
       " [0, 0, 0.5, 0.5, 0, 0, 0, 0, 0]]"
      ]
     },
     "execution_count": 52,
     "metadata": {},
     "output_type": "execute_result"
    }
   ],
   "source": [
    "print(st_poi_tree[\"enter\"][\"scenic\"])\n",
    "samples[0][6]    # 大类 enter 中的小类 scenic 的样本数据 \n"
   ]
  },
  {
   "cell_type": "code",
   "execution_count": 54,
   "metadata": {},
   "outputs": [
    {
     "data": {
      "text/plain": [
       "array([[1. , 0. , 0. , 0. , 0. , 0. , 0. , 0. , 0. ],\n",
       "       [0. , 1. , 0. , 0. , 0. , 0. , 0. , 0. , 0. ],\n",
       "       [0. , 0. , 0.5, 0.5, 0. , 0. , 0. , 0. , 0. ]])"
      ]
     },
     "execution_count": 54,
     "metadata": {},
     "output_type": "execute_result"
    }
   ],
   "source": [
    "#########################   K means 聚类   ##########################\n",
    "# 数据集 sample  两重list samples中的一个数据集  sample[0][6]  第大类第7小类： enter --> scenic \n",
    "#\n",
    "#\n",
    "\n",
    "a  = np.array(samples[0][6])\n",
    "\n",
    "\n"
   ]
  },
  {
   "cell_type": "code",
   "execution_count": null,
   "metadata": {},
   "outputs": [],
   "source": []
  },
  {
   "cell_type": "code",
   "execution_count": null,
   "metadata": {},
   "outputs": [],
   "source": []
  },
  {
   "cell_type": "code",
   "execution_count": null,
   "metadata": {},
   "outputs": [],
   "source": []
  },
  {
   "cell_type": "code",
   "execution_count": null,
   "metadata": {},
   "outputs": [],
   "source": []
  },
  {
   "cell_type": "code",
   "execution_count": null,
   "metadata": {},
   "outputs": [],
   "source": []
  },
  {
   "cell_type": "code",
   "execution_count": null,
   "metadata": {},
   "outputs": [],
   "source": []
  },
  {
   "cell_type": "code",
   "execution_count": 10,
   "metadata": {},
   "outputs": [],
   "source": []
  },
  {
   "cell_type": "code",
   "execution_count": 7,
   "metadata": {},
   "outputs": [],
   "source": []
  },
  {
   "cell_type": "code",
   "execution_count": 8,
   "metadata": {},
   "outputs": [],
   "source": []
  },
  {
   "cell_type": "code",
   "execution_count": null,
   "metadata": {},
   "outputs": [],
   "source": []
  },
  {
   "cell_type": "code",
   "execution_count": null,
   "metadata": {},
   "outputs": [],
   "source": []
  },
  {
   "cell_type": "code",
   "execution_count": null,
   "metadata": {},
   "outputs": [],
   "source": []
  },
  {
   "cell_type": "code",
   "execution_count": 69,
   "metadata": {},
   "outputs": [],
   "source": []
  },
  {
   "cell_type": "code",
   "execution_count": null,
   "metadata": {},
   "outputs": [],
   "source": [
    "#################################   删除异常点   ##########################\n",
    "path = \".\\\\POI_base\\\\POI\\\\\"             # 根目录\n",
    "class1_list = os.listdir(path)           # 大类列表\n",
    "for i in range(0, len(class1_list)):\n",
    "    #print(\"当前大类： \", class1_list[i])        \n",
    "    class2_path = path + class1_list[i]      # 大类路径 ， 每个大类\n",
    "    class2_list = os.listdir(class2_path)     # 小类列表\n",
    "    \n",
    "    for j in range(0, len(class2_list)):\n",
    "        class2_file = class2_path +\"\\\\\"+ class2_list[j]    # 小类路径 ， 每个小类\n",
    "        #print(\"大类： \",class1_list[i],\"下的当前小类： \",  class2_list[j])\n",
    "        #print(\"小类文件目录： \", class2_file)\n",
    "        \n",
    "        f = open(class2_file,\"rb\")\n",
    "        Lat_lng = pd.read_csv(f,header = None, encoding = \"gbk\")    # read.csv 后是DataFrame格式\n",
    "        f.close()\n",
    "        #print(\"小类poi数量 len(Lat_lng): \", len(Lat_lng))\n",
    "        \n",
    "        for k in range(0, range(Lat_lng)):\n",
    "            float(Lat_lng.iloc[k][1])\n",
    "            float(Lat_lng.iloc[k][2])"
   ]
  },
  {
   "cell_type": "code",
   "execution_count": null,
   "metadata": {},
   "outputs": [],
   "source": [
    "def read_POI(filename): \n",
    "    #filename = \".\\\\area_segment.csv\"       #  读取搜索区域\n",
    "    f = open(filename,\"rb\")\n",
    "    Lat_lng = pd.read_csv(f,header = None, encoding = \"gbk\")\n",
    "    f.close()\n",
    "\n",
    "    POI_list = []\n",
    "    for k in range(0,len(Lat_lng)):\n",
    "        a = [Lat_lng.iloc[k][0],float(Lat_lng.iloc[k][1]),float(Lat_lng.iloc[k][2])]\n",
    "        POI_list.append(a)\n",
    "    return POI_list"
   ]
  },
  {
   "cell_type": "code",
   "execution_count": null,
   "metadata": {},
   "outputs": [],
   "source": [
    "def write_st_poi(st_p, filename):        # st_p 是 与停留点匹配后的POI   \n",
    "    f = open(filename, 'w+')\n",
    "    for i in range(0, len(st_p)):\n",
    "    \n",
    "        a = st_p[i][0] + \",\" + str(st_p[i][1]) + \",\" + str(st_p[i][2]) +\",\"+ str(st_p[i][3])\n",
    "        f.write(a)\n",
    "        f.write(\"\\n\")\n",
    "    \n",
    "    f.close()"
   ]
  },
  {
   "cell_type": "code",
   "execution_count": null,
   "metadata": {},
   "outputs": [],
   "source": [
    "def write_st_p(st_p, filename):    #st_p_list   是提取出来的所有的停留点\n",
    "    f = open(filename, 'w+')\n",
    "    for i in range(0, len(st_p)):\n",
    "    \n",
    "        a = str(st_p[i][0]) + \",\" + str(st_p[i][1]) +\",\"+ str(st_p[i][2])\n",
    "        f.write(a)\n",
    "        f.write(\"\\n\")\n",
    "    \n",
    "    f.close()"
   ]
  },
  {
   "cell_type": "code",
   "execution_count": null,
   "metadata": {},
   "outputs": [],
   "source": [
    "#######################  读 POI_list  从文件中  ######################\n",
    "file_poi_list = \".\\\\os_file\\\\POI_list.csv\"\n",
    "\n",
    "\n",
    "    #filename = \".\\\\area_segment.csv\"       #  读取搜索区域\n",
    "f = open(file_poi_list, \"rb\")\n",
    "Lat_lng = pd.read_csv(f,header = None, encoding = \"gbk\")\n",
    "f.close()\n",
    "\n",
    "POI_list = []\n",
    "for k in range(0,len(Lat_lng)):\n",
    "    a = [Lat_lng.iloc[k][0],float(Lat_lng.iloc[k][1]),float(Lat_lng.iloc[k][2])]\n",
    "    POI_list.append(a)\n",
    "    \n",
    "len(POI_list)"
   ]
  },
  {
   "cell_type": "code",
   "execution_count": null,
   "metadata": {},
   "outputs": [],
   "source": [
    "#############################    读 st_p   ##########################\n",
    "def read_st_p(filename):\n",
    "    \n",
    "    f = open(filename, \"r+\")\n",
    "    st_p_m = pd.read_csv(f,header = None)\n",
    "    f.close()\n",
    "    \n",
    "    st_p = []\n",
    "    for i in range(0, len(st_p_m)):\n",
    "        a = [st_p_m.iloc[i][0], st_p_m.iloc[i][1], st_p_m.iloc[i][2]]\n",
    "        st_p.append(a)\n",
    "    \n",
    "    return st_p"
   ]
  }
 ],
 "metadata": {
  "kernelspec": {
   "display_name": "Python 3",
   "language": "python",
   "name": "python3"
  },
  "language_info": {
   "codemirror_mode": {
    "name": "ipython",
    "version": 3
   },
   "file_extension": ".py",
   "mimetype": "text/x-python",
   "name": "python",
   "nbconvert_exporter": "python",
   "pygments_lexer": "ipython3",
   "version": "3.7.0"
  }
 },
 "nbformat": 4,
 "nbformat_minor": 2
}
